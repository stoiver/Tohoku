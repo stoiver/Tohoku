{
 "cells": [
  {
   "attachments": {},
   "cell_type": "markdown",
   "metadata": {
    "colab_type": "text",
    "id": "Dt-Ti7kdQX3C"
   },
   "source": [
    "# Tohoku Notebook\n",
    "\n",
    "## Setup Environment\n",
    "\n",
    "We assume you have installed `anuga` in your `python` environment. \n",
    "\n",
    "### Setup inline graphics and animation"
   ]
  },
  {
   "cell_type": "code",
   "execution_count": null,
   "metadata": {
    "colab": {},
    "colab_type": "code",
    "id": "zyvvRz5ydNQx"
   },
   "outputs": [],
   "source": [
    "import os\n",
    "import numpy as np\n",
    "import matplotlib.pyplot as plt\n",
    "#from google.colab import files\n",
    "\n",
    "%matplotlib inline\n",
    "\n",
    "# Allow inline jshtml animations\n",
    "from matplotlib import rc\n",
    "rc('animation', html='jshtml')"
   ]
  },
  {
   "cell_type": "markdown",
   "metadata": {
    "colab_type": "text",
    "id": "6C9x_Hv7QSgj"
   },
   "source": [
    "### Tohoku Folder\n",
    "\n",
    "Change into the Tohoku folder (if you have not done that already)"
   ]
  },
  {
   "cell_type": "code",
   "execution_count": null,
   "metadata": {
    "colab": {},
    "colab_type": "code",
    "id": "iCl_HdApQS_c"
   },
   "outputs": [],
   "source": [
    "print(f'Current directory {os.getcwd()}')\n",
    "try:\n",
    "    os.chdir('Tohoku')\n",
    "except:\n",
    "    pass\n"
   ]
  },
  {
   "cell_type": "markdown",
   "metadata": {
    "colab_type": "text",
    "id": "L69J50RdUmmN"
   },
   "source": [
    "## Setup Anuga Model\n",
    "\n",
    "### Create Domain"
   ]
  },
  {
   "cell_type": "code",
   "execution_count": null,
   "metadata": {
    "colab": {},
    "colab_type": "code",
    "id": "YNW9WUgjTATg"
   },
   "outputs": [],
   "source": [
    "import anuga\n",
    "\n",
    "\n",
    "# Create domain\n",
    "dx = dy = 1000\n",
    "L = 160000\n",
    "W = 160000\n",
    "\n",
    "\n",
    "# Create topography\n",
    "def topography(x, y):\n",
    "    el = np.maximum( 20.0 - x/1000, -1000.0)\n",
    "    return el\n",
    "\n",
    "\n",
    "domain = anuga.rectangular_cross_domain(int(L/dx), int(W/dy), len1=L, len2=W)\n",
    "\n",
    "domain.set_name('simple_runup')\n",
    "domain.set_quantity('elevation', function=topography, location='centroids')"
   ]
  },
  {
   "cell_type": "markdown",
   "metadata": {
    "colab_type": "text",
    "id": "I1ImAke0U6cs"
   },
   "source": [
    "### Calculate surface deformation\n",
    "\n",
    "Using commonly assumed characteristics of an idealised Tohoku fault, calculate the surface deformation using the Okada transformation. "
   ]
  },
  {
   "cell_type": "code",
   "execution_count": null,
   "metadata": {
    "colab": {},
    "colab_type": "code",
    "id": "cF4SiGFEUewC"
   },
   "outputs": [],
   "source": [
    "#from anuga.tsunami_source.okada_tsunami import earthquake_source\n",
    "\n",
    "x0 = 40000.0\n",
    "y0 = 80000.0\n",
    "depth = 15000.0\n",
    "strike = 180.0\n",
    "dip = 15.0\n",
    "length = 20000.0\n",
    "width = 6000.0\n",
    "slip = 60.0\n",
    "rake = 90.0\n",
    "opening = 0.0\n",
    "nu = 0.25\n",
    "\n",
    "\n",
    "# Run one instance of the okada KL field as defined by the choice of iseed\n",
    "#import okada_kl_subfaults as okl\n",
    "import okada\n",
    "\n",
    "x = domain.centroid_coordinates[:,0]\n",
    "y = domain.centroid_coordinates[:,1]\n",
    "\n",
    "uE,uN,uZ = okada.forward(x,y, xoff=x0, yoff=y0, \n",
    "                   depth=depth, length=length, width=width,\n",
    "                   slip=slip, opening=opening,\n",
    "                   strike=strike, dip=dip, rake=rake,\n",
    "                   nu=nu)\n",
    "\n",
    "    \n",
    "# The default argument values are appropriate for the Tohoku earth quake\n",
    "#uE,uN,uZ,slips = okl.deformation(x, y, xoff=300000.0, yoff=250000.0, E_subfault=5, N_subfault=10, iseed=1001)\n",
    "\n",
    "plt.tripcolor(dplotter.triang,\n",
    "              facecolors = uZ,\n",
    "              edgecolors='k',\n",
    "              cmap='viridis')\n",
    "plt.title('Surface deformation')\n",
    "plt.colorbar();\n"
   ]
  },
  {
   "cell_type": "markdown",
   "metadata": {},
   "source": [
    "### Apply deformation to domain\n",
    "\n",
    "Apply the calculated deformation to the domain elevation and stage quantities"
   ]
  },
  {
   "cell_type": "code",
   "execution_count": null,
   "metadata": {},
   "outputs": [],
   "source": [
    "Elevation = domain.quantities['elevation'].centroid_values\n",
    "Stage = domain.quantities['stage'].centroid_values\n",
    "\n",
    "# Clean up stage so that stage >= elevation\n",
    "Stage[:] = np.maximum(Stage, Elevation)\n",
    "\n",
    "location = [20000, 40000]\n",
    "#location = [1, 40000]\n",
    "tri_id = domain.get_triangle_containing_point(location)\n",
    "print(f'point near coast id {tri_id}, elevation {Elevation[tri_id]}, stage {Stage[tri_id]} uZ {uZ[tri_id]}')\n",
    "\n",
    "\n",
    "Elevation[:] = Elevation + uZ\n",
    "Stage[:] = Stage + uZ\n",
    "\n",
    "print(f'point near coast id {tri_id}, elevation {Elevation[tri_id]}, stage {Stage[tri_id]} uZ {uZ[tri_id]}')\n",
    "\n",
    "\n",
    "dplotter = anuga.Domain_plotter(domain)\n",
    "\n",
    "print (np.max(dplotter.stage), np.min(dplotter.stage))\n",
    "print (np.max(dplotter.elev), np.min(dplotter.elev))\n",
    "print (np.max(dplotter.depth), np.min(dplotter.depth))\n",
    "\n",
    "dplotter.plot_stage_frame(vmin=-3.0, vmax=8.0)\n"
   ]
  },
  {
   "cell_type": "markdown",
   "metadata": {},
   "source": [
    "### Boundary Conditions\n",
    "\n",
    "Use transmisive boundary conditoin on the ocean boundaries. Set an inflow stage value to 0. (this assumes that the surface deformation is very close to 0, ie the domain is big enough that the ocean BC are far away from the eathquake deformation)"
   ]
  },
  {
   "cell_type": "code",
   "execution_count": null,
   "metadata": {
    "colab": {},
    "colab_type": "code",
    "id": "VRBuh04CWhor"
   },
   "outputs": [],
   "source": [
    "Br = anuga.Reflective_boundary(domain)\n",
    "Bf = anuga.Flather_external_stage_zero_velocity_boundary(domain,lambda t :0.0)\n",
    "Bt = anuga.Transmissive_n_momentum_zero_t_momentum_set_stage_boundary(domain,lambda t :0.0)\n",
    "# Boundary conditions\n",
    "domain.set_boundary({'left': Br,\n",
    "                         'bottom': Bf,\n",
    "                         'right': Bf,\n",
    "                         'top': Bf})"
   ]
  },
  {
   "cell_type": "markdown",
   "metadata": {},
   "source": [
    "### Interrogation of points\n",
    "\n",
    "Test elevation and stage at a point near the shore and on the ocean boundary"
   ]
  },
  {
   "cell_type": "code",
   "execution_count": null,
   "metadata": {},
   "outputs": [],
   "source": [
    "# point near shore line\n",
    "location = [20000, 40000]\n",
    "tri_id_s = domain.get_triangle_containing_point(location)\n",
    "print(f'centroid with triangle id {tri_id_s} near coast has elevation {Elevation[tri_id_s]}, stage {Stage[tri_id_s]} and uZ {uZ[tri_id_s]}')\n",
    "# point on transmissive ocean boundary\n",
    "location = [80000, 1]\n",
    "tri_id_o = domain.get_triangle_containing_point(location)\n",
    "print(f'centroid with triangle id {tri_id_o} near transmissive boundary has elevation {Elevation[tri_id_o]}, stage {Stage[tri_id_o]} and uZ {uZ[tri_id_o]}')\n"
   ]
  },
  {
   "cell_type": "markdown",
   "metadata": {},
   "source": [
    "## Run model\n",
    "\n",
    "### Evolve"
   ]
  },
  {
   "cell_type": "code",
   "execution_count": null,
   "metadata": {},
   "outputs": [],
   "source": [
    "import time\n",
    "t0 = time.time()\n",
    "min = 60\n",
    "hour = 3600\n",
    "\n",
    "# Initial run without any event\n",
    "for t in domain.evolve(yieldstep=5*min, finaltime=3*hour):\n",
    "    dplotter.save_stage_frame(vmin=-3.0,vmax=8.0)\n",
    "\n",
    "    domain.print_timestepping_statistics()\n",
    "    print(f'centroid near coast has elevation {Elevation[tri_id_s]}, stage {Stage[tri_id_s]} and height {Stage[tri_id_s]-Elevation[tri_id_s]}')\n",
    "\n",
    "\n",
    "print ('That took %.2f seconds' %(time.time()-t0))\n"
   ]
  },
  {
   "cell_type": "markdown",
   "metadata": {},
   "source": [
    "### Plot results of Simulation"
   ]
  },
  {
   "cell_type": "code",
   "execution_count": null,
   "metadata": {},
   "outputs": [],
   "source": [
    "dplotter.make_stage_animation()"
   ]
  },
  {
   "cell_type": "code",
   "execution_count": null,
   "metadata": {},
   "outputs": [],
   "source": []
  }
 ],
 "metadata": {
  "colab": {
   "collapsed_sections": [],
   "include_colab_link": true,
   "name": "notebook1.ipynb",
   "provenance": [],
   "version": "0.3.2"
  },
  "kernelspec": {
   "display_name": "Python 3 (ipykernel)",
   "language": "python",
   "name": "python3"
  },
  "language_info": {
   "codemirror_mode": {
    "name": "ipython",
    "version": 3
   },
   "file_extension": ".py",
   "mimetype": "text/x-python",
   "name": "python",
   "nbconvert_exporter": "python",
   "pygments_lexer": "ipython3",
   "version": "3.9.18"
  }
 },
 "nbformat": 4,
 "nbformat_minor": 4
}
