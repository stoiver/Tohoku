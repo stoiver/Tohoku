{
 "cells": [
  {
   "attachments": {},
   "cell_type": "markdown",
   "metadata": {
    "colab_type": "text",
    "id": "Dt-Ti7kdQX3C"
   },
   "source": [
    "# Tohoku Okada Notebook\n",
    "\n",
    "## Setup Environment\n",
    "\n",
    "We assume you have installed `anuga` in your `python` environment. \n",
    "\n",
    "### Setup inline graphics and animation"
   ]
  },
  {
   "cell_type": "code",
   "execution_count": null,
   "metadata": {
    "colab": {},
    "colab_type": "code",
    "id": "zyvvRz5ydNQx"
   },
   "outputs": [],
   "source": [
    "import os\n",
    "import anuga\n",
    "import numpy as np\n",
    "import matplotlib.pyplot as plt\n",
    "#from google.colab import files\n",
    "\n",
    "%matplotlib inline\n",
    "\n",
    "# Allow inline jshtml animations\n",
    "from matplotlib import rc\n",
    "rc('animation', html='jshtml')"
   ]
  },
  {
   "cell_type": "markdown",
   "metadata": {
    "colab_type": "text",
    "id": "6C9x_Hv7QSgj"
   },
   "source": [
    "## Tohoku Folder\n",
    "\n",
    "Change into the Tohoku folder (if you have not done that already)"
   ]
  },
  {
   "cell_type": "code",
   "execution_count": null,
   "metadata": {
    "colab": {},
    "colab_type": "code",
    "id": "iCl_HdApQS_c"
   },
   "outputs": [],
   "source": [
    "print(f'Current directory {os.getcwd()}')\n",
    "try:\n",
    "    os.chdir('Tohoku')\n",
    "except:\n",
    "    pass\n"
   ]
  },
  {
   "cell_type": "markdown",
   "metadata": {
    "colab_type": "text",
    "id": "L69J50RdUmmN"
   },
   "source": [
    "## Setup Anuga Model\n",
    "\n",
    "### Project parameters"
   ]
  },
  {
   "cell_type": "code",
   "execution_count": null,
   "metadata": {},
   "outputs": [],
   "source": [
    "import project\n"
   ]
  },
  {
   "cell_type": "code",
   "execution_count": null,
   "metadata": {
    "colab": {},
    "colab_type": "code",
    "id": "YNW9WUgjTATg"
   },
   "outputs": [],
   "source": [
    "print ('project name: ', project.name_stem)\n",
    "domain = anuga.create_domain_from_regions(project.bounding_polygon,\n",
    "                                        boundary_tags={'bottom': [0],\n",
    "                                                       'ocean_east': [1],\n",
    "                                                       'top': [2],\n",
    "                                                       'onshore': [3]},\n",
    "                                        maximum_triangle_area=project.res_whole,\n",
    "                                        mesh_filename=project.meshname,\n",
    "                                        interior_regions=project.interior_regions,\n",
    "                                        use_cache=False,\n",
    "                                        verbose=False)\n",
    "\n",
    "\n",
    "\n",
    "domain.set_hemisphere('northern')\n",
    "domain.set_zone(54)\n",
    "print ('Number of triangles = ', len(domain))\n",
    "print ('The extent is ', domain.get_extent())\n",
    "print ('Geo reference is ',domain.geo_reference)\n",
    "\n",
    "domain.set_quantity('elevation',\n",
    "                        filename=project.name_stem + '.pts',\n",
    "                        use_cache=True,\n",
    "                        verbose=False,\n",
    "                        alpha=0.1)\n",
    "\n",
    "\n",
    "tide = -0.45\n",
    "domain.set_quantity('stage', tide)\n",
    "\n",
    "\n",
    "Elevation = domain.quantities['elevation'].centroid_values\n",
    "Stage     = domain.quantities['stage'].centroid_values\n",
    "\n",
    "Stage[:] = np.maximum(Elevation, Stage)\n",
    "                        \n",
    "\n",
    "dplotter = anuga.Domain_plotter(domain, absolute=True)\n",
    "plt.triplot(dplotter.triang, linewidth = 0.4);\n",
    "#print (domain.statistics())\n",
    "\n",
    "#domain.set_quantity('elevation', function=topography, location='centroids')"
   ]
  },
  {
   "cell_type": "markdown",
   "metadata": {},
   "source": [
    "### Setup fault properties"
   ]
  },
  {
   "cell_type": "code",
   "execution_count": null,
   "metadata": {},
   "outputs": [],
   "source": [
    "#from anuga.tsunami_source.okada_tsunami import earthquake_source\n",
    "\n",
    "# location of fault (relative coordinates)\n",
    "x0 = 300000.0\n",
    "y0 = 250000.0\n",
    "\n",
    "depth = 15000.0\n",
    "strike = 0.0\n",
    "dip = 15.0\n",
    "length = 20000.0\n",
    "width = 6000.0\n",
    "slip = 60.0\n",
    "rake = 90.0\n",
    "opening = 0.0\n",
    "nu = 0.25"
   ]
  },
  {
   "cell_type": "code",
   "execution_count": null,
   "metadata": {},
   "outputs": [],
   "source": [
    "import cartopy\n",
    "import cartopy.crs as ccrs\n",
    "\n",
    "fig = plt.figure()\n",
    "ax = fig.add_subplot(111, projection=ccrs.UTM(zone=54))\n",
    "#ax = fig.add_subplot(111)\n",
    "\n",
    "#ax.coastlines()\n",
    "\n",
    "xll = domain.geo_reference.xllcorner\n",
    "yll = domain.geo_reference.yllcorner\n",
    "\n",
    "\n",
    "md = 0.01\n",
    "\n",
    "# Dry areas\n",
    "dplotter.triang.set_mask(dplotter.depth > md)\n",
    "ax.tripcolor(dplotter.triang,\n",
    "                      facecolors=dplotter.elev,\n",
    "                      cmap='BrBG')\n",
    "                      #cmap='viridis_r')\n",
    "                      #cmap='Greys_r')\n",
    "\n",
    "# Wet Areas\n",
    "dplotter.triang.set_mask(dplotter.depth <= md)\n",
    "ax.tripcolor(dplotter.triang,\n",
    "                      facecolors=dplotter.elev,\n",
    "                      cmap='Blues_r')\n",
    "                      #cmap='viridis')\n",
    "                      #vmin=vmin, vmax=vmax)\n",
    "\n",
    "dplotter.triang.set_mask(None)\n",
    "\n",
    "ax.scatter(x0+xll, y0+yll,marker='+', color='r')\n",
    "\n",
    "\n",
    "\n",
    "ax.set_extent([450000,900000,4000000, 4400000], crs=ccrs.UTM(zone=54))\n",
    "gridlines = ax.gridlines(draw_labels=True)\n",
    "\n",
    "#ax.coastlines()\n",
    "\n",
    "plt.title('Elevation (Bathymetry) east coast Japan')\n",
    "\n",
    "#plt.colorbar()\n",
    "\n"
   ]
  },
  {
   "cell_type": "markdown",
   "metadata": {
    "colab_type": "text",
    "id": "I1ImAke0U6cs"
   },
   "source": [
    "### Calculate Okada deformation and  \n",
    "\n",
    "Calculate surface deformation based on a simple rectangular fault"
   ]
  },
  {
   "cell_type": "code",
   "execution_count": null,
   "metadata": {},
   "outputs": [],
   "source": [
    "import okada\n",
    "\n",
    "x = domain.centroid_coordinates[:,0]\n",
    "y = domain.centroid_coordinates[:,1]\n",
    "\n",
    "uE,uN,uZ = okada.forward(x,y, xoff=x0, yoff=y0, \n",
    "                   depth=depth, length=length, width=width,\n",
    "                   slip=slip, opening=opening,\n",
    "                   strike=strike, dip=dip, rake=rake,\n",
    "                   nu=nu)\n",
    "\n",
    "\n",
    "# Plot the deformation\n",
    "dplotter = anuga.Domain_plotter(domain, absolute=True)\n",
    "\n",
    "fig = plt.figure()\n",
    "ax = fig.add_subplot(111, projection=ccrs.UTM(zone=54))\n",
    "#ax = fig.add_subplot(111)\n",
    "\n",
    "md = 0.01\n",
    "#dplotter.triang.set_mask(None)\n",
    "\n",
    "# dry areas\n",
    "#dplotter.triang.set_mask(dplotter.depth > md)\n",
    "img = ax.tripcolor(dplotter.triang,\n",
    "                      facecolors=uZ,\n",
    "                      #cmap='BrBG')\n",
    "                      cmap='viridis')\n",
    "                      #cmap='Greys_r')\n",
    "\n",
    "ax.set_extent([450000,900000,4000000, 4400000], crs=ccrs.UTM(zone=54))\n",
    "gridlines = ax.gridlines(draw_labels=True)\n",
    "\n",
    "plt.colorbar(img, pad = 0.2, shrink=0.8)\n",
    "ax.coastlines()\n",
    "\n",
    "plt.title('Surface Deformation');\n",
    "\n"
   ]
  },
  {
   "cell_type": "markdown",
   "metadata": {},
   "source": [
    "### Apply deformation to Stage and Elevation"
   ]
  },
  {
   "cell_type": "code",
   "execution_count": null,
   "metadata": {
    "colab": {},
    "colab_type": "code",
    "id": "cF4SiGFEUewC"
   },
   "outputs": [],
   "source": [
    "Elevation = domain.quantities['elevation'].centroid_values\n",
    "Stage     = domain.quantities['stage'].centroid_values\n",
    "\n",
    "Elevation[:] = Elevation + uZ\n",
    "Stage[:]     = Stage + uZ\n",
    "\n",
    "\n",
    "print ('Stage extent     ',np.max(dplotter.stage), np.min(dplotter.stage))\n",
    "print ('Elevation extent ',np.max(dplotter.elev), np.min(dplotter.elev))\n",
    "print ('Depth extent     ',np.max(dplotter.depth), np.min(dplotter.depth))\n",
    "\n",
    "# plt the updated elevation and stage\n",
    "dplotter = anuga.Domain_plotter(domain, absolute=True)\n",
    "\n",
    "fig = plt.figure()\n",
    "ax = fig.add_subplot(111, projection=ccrs.UTM(zone=54))\n",
    "#ax = fig.add_subplot(111)\n",
    "\n",
    "md = 0.01\n",
    "\n",
    "# dry areas\n",
    "dplotter.triang.set_mask(dplotter.depth > md)\n",
    "ax.tripcolor(dplotter.triang,\n",
    "                      facecolors=dplotter.elev,\n",
    "                      cmap='BrBG')\n",
    "                      #cmap='viridis_r')\n",
    "                      #cmap='Greys_r')\n",
    "\n",
    "\n",
    "# wet areas\n",
    "dplotter.triang.set_mask(dplotter.depth <= md)\n",
    "img = ax.tripcolor(dplotter.triang,\n",
    "                      facecolors=dplotter.stage,\n",
    "                      #cmap='Blues_r')\n",
    "                      cmap='viridis')\n",
    "                      #vmin=vmin, vmax=vmax)\n",
    "\n",
    "ax.set_aspect('equal', adjustable='box')\n",
    "\n",
    "plt.colorbar(img, pad = 0.2, shrink=0.8)\n",
    "\n",
    "ax.scatter(300000.0+xll,250000.0+yll,marker='+', color='r')\n",
    "\n",
    "ax.set_extent([450000,900000,4000000, 4400000], crs=ccrs.UTM(zone=54))\n",
    "gridlines = ax.gridlines(draw_labels=True)\n",
    "\n",
    "\n",
    "\n",
    "ax.coastlines()\n",
    "\n",
    "plt.title('Stage (with dry elevation)');"
   ]
  },
  {
   "cell_type": "markdown",
   "metadata": {},
   "source": [
    "### Setup Boundary Conditions"
   ]
  },
  {
   "cell_type": "code",
   "execution_count": null,
   "metadata": {
    "colab": {},
    "colab_type": "code",
    "id": "VRBuh04CWhor"
   },
   "outputs": [],
   "source": [
    "Br = anuga.Reflective_boundary(domain)\n",
    "Bf = anuga.Flather_external_stage_zero_velocity_boundary(domain,lambda t :tide)\n",
    "# Boundary conditions\n",
    "domain.set_boundary({'onshore': Br,\n",
    "                         'bottom': Bf,\n",
    "                         'ocean_east': Bf,\n",
    "                         'top': Bf})"
   ]
  },
  {
   "cell_type": "markdown",
   "metadata": {},
   "source": [
    "### Evolve the simulation"
   ]
  },
  {
   "cell_type": "code",
   "execution_count": null,
   "metadata": {},
   "outputs": [],
   "source": [
    "import time\n",
    "t0 = time.time()\n",
    "min = 60\n",
    "hour = 3600\n",
    "\n",
    "dplotter = anuga.Domain_plotter(domain, absolute=True)\n",
    "\n",
    "# Initial run without any event\n",
    "for t in domain.evolve(yieldstep=5*min, finaltime=2*hour):\n",
    "    dplotter.save_stage_frame(vmin=-2.0,vmax=4.0)\n",
    "\n",
    "    domain.print_timestepping_statistics()\n",
    "\n",
    "print ('That took %.2f seconds' %(time.time()-t0))\n"
   ]
  },
  {
   "cell_type": "code",
   "execution_count": null,
   "metadata": {},
   "outputs": [],
   "source": [
    "dplotter.make_stage_animation()"
   ]
  },
  {
   "cell_type": "code",
   "execution_count": null,
   "metadata": {},
   "outputs": [],
   "source": []
  }
 ],
 "metadata": {
  "colab": {
   "collapsed_sections": [],
   "include_colab_link": true,
   "name": "notebook1.ipynb",
   "provenance": [],
   "version": "0.3.2"
  },
  "kernelspec": {
   "display_name": "Python 3 (ipykernel)",
   "language": "python",
   "name": "python3"
  },
  "language_info": {
   "codemirror_mode": {
    "name": "ipython",
    "version": 3
   },
   "file_extension": ".py",
   "mimetype": "text/x-python",
   "name": "python",
   "nbconvert_exporter": "python",
   "pygments_lexer": "ipython3",
   "version": "3.9.18"
  }
 },
 "nbformat": 4,
 "nbformat_minor": 4
}
