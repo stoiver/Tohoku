{
 "cells": [
  {
   "cell_type": "code",
   "execution_count": 21,
   "metadata": {},
   "outputs": [
    {
     "output_type": "stream",
     "name": "stdout",
     "text": [
      "The autoreload extension is already loaded. To reload it, use:\n  %reload_ext autoreload\n"
     ]
    }
   ],
   "source": [
    "%load_ext autoreload\n",
    "%autoreload 2\n",
    "%matplotlib inline\n",
    "\n",
    "import matplotlib.pyplot as plt\n",
    "import numpy as np\n",
    "import anuga"
   ]
  },
  {
   "source": [
    "## Read in sww file. \n",
    "\n",
    "The sww file should have already been created by running `run_Tohoku.py` with the appropriate scenario chosen in the `project.py` file"
   ],
   "cell_type": "markdown",
   "metadata": {}
  },
  {
   "cell_type": "code",
   "execution_count": null,
   "metadata": {},
   "outputs": [],
   "source": [
    "# Create a wrapper for contents of sww file\n",
    "\n",
    "#scenario = 'Fujii'\n",
    "scenario = 'Ammon'\n",
    "#scenario = 'Hayes'\n",
    "#scenario = 'UCSB3'\n",
    "#scenario = 'Caltech'\n",
    "swwdir  = '_output_'+ scenario\n",
    "swwfile = 'Tohoku_' + scenario + '.sww'\n",
    "\n",
    "import os\n",
    "os.chdir('~/Tohoku')\n",
    "os.chdir(swwdir)\n",
    "\n",
    "splotter = anuga.SWW_plotter(swwfile)"
   ]
  },
  {
   "cell_type": "code",
   "execution_count": null,
   "metadata": {},
   "outputs": [],
   "source": [
    "splotter.plot_stage_frame(frame=0, vmin=-15, vmax=15, figsize=(10, 6), dpi=100) # time 0 sec"
   ]
  },
  {
   "cell_type": "code",
   "execution_count": null,
   "metadata": {},
   "outputs": [],
   "source": [
    "splotter.plot_stage_frame(frame=12, vmin=-15, vmax=15, figsize=(10, 6), dpi=100) # time 3600 sec"
   ]
  },
  {
   "cell_type": "code",
   "execution_count": null,
   "metadata": {},
   "outputs": [],
   "source": [
    "tri_id = np.argmin(np.sqrt((splotter.xc - 100000)**2 + (splotter.yc - 250000)**2) )\n",
    "plt.plot(splotter.time[0:40], splotter.stage[0:40,tri_id])  # Only plot 40 frames as last frames seem to show inflow from ocean boundaries.\n",
    "plt.title('Stage near coast');"
   ]
  },
  {
   "cell_type": "code",
   "execution_count": null,
   "metadata": {},
   "outputs": [],
   "source": [
    "tri_id = np.argmin(np.sqrt((splotter.xc - 300000)**2 + (splotter.yc - 250000)**2) )\n",
    "plt.plot(splotter.time[0:40], splotter.stage[0:40,tri_id])  # Only plot 40 frames as last frames seem to show inflow from ocean boundaries.\n",
    "plt.title('Stage near fault')"
   ]
  },
  {
   "cell_type": "code",
   "execution_count": null,
   "metadata": {},
   "outputs": [],
   "source": []
  }
 ],
 "metadata": {
  "kernelspec": {
   "display_name": "Python 3",
   "language": "python",
   "name": "python3"
  },
  "language_info": {
   "codemirror_mode": {
    "name": "ipython",
    "version": 3
   },
   "file_extension": ".py",
   "mimetype": "text/x-python",
   "name": "python",
   "nbconvert_exporter": "python",
   "pygments_lexer": "ipython3",
   "version": "3.8.2-final"
  }
 },
 "nbformat": 4,
 "nbformat_minor": 4
}