{
 "cells": [
  {
   "cell_type": "code",
   "execution_count": null,
   "metadata": {},
   "outputs": [],
   "source": [
    "%load_ext autoreload\n",
    "%autoreload 2\n",
    "%matplotlib inline\n",
    "\n",
    "import matplotlib.pyplot as plt\n",
    "import numpy as np\n",
    "import anuga"
   ]
  },
  {
   "source": [
    "## Read in sww file. \n",
    "\n",
    "The sww file should have already been created by running `run_Tohoku.py` with the appropriate scenario chosen in the `project.py` file"
   ],
   "cell_type": "markdown",
   "metadata": {}
  },
  {
   "cell_type": "code",
   "execution_count": null,
   "metadata": {},
   "outputs": [],
   "source": [
    "# Create a wrapper for contents of sww file\n",
    "\n",
    "#scenario = 'Fujii'\n",
    "#scenario = 'Ammon'\n",
    "#scenario = 'Hayes'\n",
    "#scenario = 'UCSB3'\n",
    "#scenario = 'Caltech'\n",
    "scenario =  'Okada_1'\n",
    "swwdir  = '_output_'+ scenario\n",
    "swwfile = 'Tohoku_' + scenario + '.sww'\n",
    "\n",
    "import os\n",
    "# Ensure we are startiong at the Tohoku Directory\n",
    "# change this for your own setup\n",
    "os.chdir('/home/anuga/Tohoku')\n",
    "os.chdir(swwdir)\n",
    "\n",
    "splotter = anuga.SWW_plotter(swwfile)"
   ]
  },
  {
   "cell_type": "code",
   "execution_count": null,
   "metadata": {},
   "outputs": [],
   "source": [
    "splotter.plot_stage_frame(frame=0, vmin=-15, vmax=15, figsize=(10, 6), dpi=100) # time 0 sec"
   ]
  },
  {
   "cell_type": "code",
   "execution_count": null,
   "metadata": {},
   "outputs": [],
   "source": [
    "splotter.plot_stage_frame(frame=12, vmin=-15, vmax=15, figsize=(10, 6), dpi=100) # time 3600 sec"
   ]
  },
  {
   "cell_type": "code",
   "execution_count": null,
   "metadata": {},
   "outputs": [],
   "source": [
    "tri_id = np.argmin(np.sqrt((splotter.xc - 100000)**2 + (splotter.yc - 250000)**2) )\n",
    "plt.plot(splotter.time, splotter.stage[:,tri_id])  \n",
    "plt.title('Stage near coast');"
   ]
  },
  {
   "cell_type": "code",
   "execution_count": null,
   "metadata": {},
   "outputs": [],
   "source": [
    "tri_id = np.argmin(np.sqrt((splotter.xc - 300000)**2 + (splotter.yc - 250000)**2) )\n",
    "plt.plot(splotter.time, splotter.stage[:,tri_id])  \n",
    "plt.title('Stage near fault')"
   ]
  },
  {
   "cell_type": "code",
   "execution_count": null,
   "metadata": {},
   "outputs": [],
   "source": [
    "slips = np.loadtxt('slips.txt')\n",
    "plt.matshow(slips)\n",
    "plt.colorbar()\n",
    "plt.title('Slip Field')"
   ]
  },
  {
   "cell_type": "code",
   "execution_count": null,
   "metadata": {},
   "outputs": [],
   "source": []
  }
 ],
 "metadata": {
  "kernelspec": {
   "display_name": "Python 3",
   "language": "python",
   "name": "python3"
  },
  "language_info": {
   "codemirror_mode": {
    "name": "ipython",
    "version": 3
   },
   "file_extension": ".py",
   "mimetype": "text/x-python",
   "name": "python",
   "nbconvert_exporter": "python",
   "pygments_lexer": "ipython3",
   "version": "3.8.2-final"
  }
 },
 "nbformat": 4,
 "nbformat_minor": 4
}