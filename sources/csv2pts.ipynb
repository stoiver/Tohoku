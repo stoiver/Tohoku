{
 "cells": [
  {
   "cell_type": "code",
   "execution_count": 4,
   "metadata": {},
   "outputs": [],
   "source": [
    "import numpy as np"
   ]
  },
  {
   "cell_type": "code",
   "execution_count": 11,
   "metadata": {},
   "outputs": [],
   "source": [
    "root = 'Elevation'\n",
    "\n",
    "csv_file = root+'.csv'\n",
    "import pandas as pd\n",
    "my_csv = pd.read_csv(csv_file, header=None, names=['x', 'y', 'elevation'])\n",
    "#column = my_csv.column_name\n",
    "# you can also use my_csv['column_name']"
   ]
  },
  {
   "cell_type": "code",
   "execution_count": null,
   "metadata": {},
   "outputs": [],
   "source": []
  },
  {
   "cell_type": "code",
   "execution_count": 12,
   "metadata": {},
   "outputs": [],
   "source": [
    "x = my_csv.values[:,0]\n",
    "y = my_csv.values[:,1]\n",
    "dem_elevation = my_csv.values[:,2] "
   ]
  },
  {
   "cell_type": "code",
   "execution_count": 13,
   "metadata": {},
   "outputs": [
    {
     "name": "stdout",
     "output_type": "stream",
     "text": [
      "Store to NetCDF file Elevation.pts\n"
     ]
    }
   ],
   "source": [
    "import os\n",
    "\n",
    "# Get NetCDF\n",
    "#infile = NetCDFFile(name_in, netcdf_mode_r) \n",
    "\n",
    "#if verbose: print('Reading data from %s' % (name_in))\n",
    "\n",
    "easting_max = np.max(x)\n",
    "northing_max = np.max(y)\n",
    "easting_min = np.min(x)\n",
    "northing_min = np.min(y)\n",
    "easting_min, northing_min, easting_max, northing_max\n",
    "\n",
    "\n",
    "xllcorner = easting_min # Easting of lower left corner\n",
    "yllcorner = northing_min  # Northing of lower left corner\n",
    "#cellsize = float(infile.cellsize)\n",
    "NODATA_value = -9999\n",
    "\n",
    "#dem_elevation = infile.variables['elevation']\n",
    "\n",
    "zone = -1 \n",
    "false_easting = 0.0\n",
    "false_northing = 0.0\n",
    "\n",
    "\n",
    "\n",
    "# Text strings\n",
    "projection = 'wgs84'\n",
    "datum = 'UTM'\n",
    "units = 'm'\n",
    "\n",
    "no_points = len(dem_elevation)\n",
    "\n",
    "from anuga.file.netcdf import NetCDFFile\n",
    "from anuga.config import netcdf_mode_r, netcdf_mode_w, netcdf_mode_a, netcdf_float\n",
    "\n",
    "ptsname = root + '.pts'\n",
    "\n",
    "\n",
    "#print('Store to NetCDF file %s' % ptsname)\n",
    "\n",
    "# NetCDF file definition\n",
    "outfile = NetCDFFile(ptsname, netcdf_mode_w)\n",
    "\n",
    "# Create new file\n",
    "outfile.institution = 'Geoscience Australia'\n",
    "outfile.description = 'NetCDF pts format for compact and portable ' \\\n",
    "                      'storage of spatial point data'\n",
    "\n",
    "# Assign default values\n",
    "#if easting_min is None: easting_min = xllcorner\n",
    "#if easting_max is None: easting_max = xllcorner + dem_len\n",
    "#if northing_min is None: northing_min = yllcorner\n",
    "#if northing_max is None: northing_max = yllcorner + nrows*cellsize\n",
    "\n",
    "\n",
    "#print easting_min, easting_max, northing_min, northing_max\n",
    "\n",
    "# Compute offsets to update georeferencing\n",
    "easting_offset = xllcorner - easting_min\n",
    "northing_offset = yllcorner - northing_min\n",
    "\n",
    "# Georeferencing\n",
    "outfile.zone = zone\n",
    "outfile.xllcorner = easting_min # Easting of lower left corner\n",
    "outfile.yllcorner = northing_min # Northing of lower left corner\n",
    "outfile.false_easting = false_easting\n",
    "outfile.false_northing = false_northing\n",
    "\n",
    "outfile.projection = projection\n",
    "outfile.datum = datum\n",
    "outfile.units = units\n",
    "\n",
    "outfile.createDimension('number_of_points', no_points)\n",
    "outfile.createDimension('number_of_dimensions', 2) #This is 2d data\n",
    "\n",
    "# Variable definitions\n",
    "outfile.createVariable('points', netcdf_float, ('number_of_points',\n",
    "                                                'number_of_dimensions'))\n",
    "outfile.createVariable('elevation', netcdf_float, ('number_of_points',))\n",
    "\n",
    "# Get handles to the variables\n",
    "points = outfile.variables['points']\n",
    "elevation = outfile.variables['elevation']\n",
    "\n",
    "points[:,0] = x - easting_min\n",
    "points[:,1] = y - northing_min\n",
    "elevation[:] = dem_elevation\n",
    "\n",
    "outfile.close()\n"
   ]
  }
 ],
 "metadata": {
  "kernelspec": {
   "display_name": "Python 2",
   "language": "python",
   "name": "python2"
  },
  "language_info": {
   "codemirror_mode": {
    "name": "ipython",
    "version": 2
   },
   "file_extension": ".py",
   "mimetype": "text/x-python",
   "name": "python",
   "nbconvert_exporter": "python",
   "pygments_lexer": "ipython2",
   "version": "2.7.12"
  }
 },
 "nbformat": 4,
 "nbformat_minor": 2
}
