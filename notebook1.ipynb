{
 "cells": [
  {
   "cell_type": "markdown",
   "metadata": {
    "colab_type": "text",
    "id": "view-in-github"
   },
   "source": [
    "<a href=\"https://colab.research.google.com/github/stoiver/Tohoku/blob/master/notebook1.ipynb\" target=\"_parent\"><img src=\"https://colab.research.google.com/assets/colab-badge.svg\" alt=\"Open In Colab\"/></a>"
   ]
  },
  {
   "cell_type": "markdown",
   "metadata": {
    "colab_type": "text",
    "id": "MFkDMm10DPK7"
   },
   "source": [
    "# Tohoku Notebook\n",
    "\n",
    "These notebooks have been designed to run in the google `colaboratory` environment, which provides a jupyter notebook environment running on a virtual machine on the cloud. To use this environment you need a google account so that your notebook can be saved on google drive. \n",
    "\n",
    "To start interacting with the notebook follow the \n",
    "`View in Colaboratory` link above. "
   ]
  },
  {
   "cell_type": "markdown",
   "metadata": {
    "colab_type": "text",
    "id": "Dt-Ti7kdQX3C"
   },
   "source": [
    "## Setup Environment\n",
    "\n",
    "If on github, first follow the link `View in Colaboratory' to start running on google's colab environment. \n",
    "\n",
    "### Then ....\n",
    "\n",
    "Run the following cell to install the dependencies and some extra code for visualising on Colaboratory.\n",
    "Wait until you see the comment *(6) Ready to go* before proceeding to subsequent commands. \n",
    "\n",
    "The install should take less than a minute (and quicker if you have already run this earlier)."
   ]
  },
  {
   "cell_type": "code",
   "execution_count": 0,
   "metadata": {
    "colab": {},
    "colab_type": "code",
    "id": "xdCgMgk7_ZcW"
   },
   "outputs": [],
   "source": [
    "try:\n",
    "  # On colab we can install all the packages we need via the notebook\n",
    "  #\n",
    "  # First download the clinic repository\n",
    "  import os\n",
    "  os.chdir('/content')\n",
    "  \n",
    "  print \"(1) Install netcdf nose via pip\"\n",
    "  !pip -q install netCDF4 nose > /dev/null 2>&1 \n",
    "\n",
    "  print \"(2) Install gdal via apt-get\"\n",
    "  !apt-get -q -y install python-gdal gdal-bin > /dev/null 2>&1 \n",
    "\n",
    "  print \"(3) Download anuga_core github repository\"\n",
    "  !git clone -b tsunami_okada  https://github.com/stoiver/anuga_core.git  > /dev/null 2>&1 \n",
    "\n",
    "  print \"(4) Install anuga\"\n",
    "  os.chdir('/content/anuga_core')\n",
    "  !python setup.py --quiet install  > /dev/null 2>&1 \n",
    "  os.chdir('..')\n",
    "  \n",
    "  print \"(5) Download Tohoku github repository\"\n",
    "  !git clone https://github.com/stoiver/Tohoku.git  > /dev/null 2>&1   \n",
    "  \n",
    "  print \"(6) Ready to go\"\n",
    " \n",
    "except:\n",
    "  pass"
   ]
  },
  {
   "cell_type": "markdown",
   "metadata": {
    "colab_type": "text",
    "id": "0jTxMSaddabt"
   },
   "source": [
    "### Setup inline graphics and animation"
   ]
  },
  {
   "cell_type": "code",
   "execution_count": 1,
   "metadata": {
    "colab": {},
    "colab_type": "code",
    "id": "zyvvRz5ydNQx"
   },
   "outputs": [],
   "source": [
    "import numpy as np\n",
    "import matplotlib.pyplot as plt\n",
    "#from google.colab import files\n",
    "\n",
    "%matplotlib inline\n",
    "\n",
    "# Allow inline jshtml animations\n",
    "from matplotlib import rc\n",
    "rc('animation', html='jshtml')"
   ]
  },
  {
   "cell_type": "markdown",
   "metadata": {
    "colab_type": "text",
    "id": "6C9x_Hv7QSgj"
   },
   "source": [
    "## Tohoku Folder\n",
    "\n",
    "Change into the Tohoku folder"
   ]
  },
  {
   "cell_type": "code",
   "execution_count": 0,
   "metadata": {
    "colab": {},
    "colab_type": "code",
    "id": "iCl_HdApQS_c"
   },
   "outputs": [],
   "source": [
    "os.chdir('Tohoku')"
   ]
  },
  {
   "cell_type": "code",
   "execution_count": 2,
   "metadata": {},
   "outputs": [
    {
     "data": {
      "text/plain": [
       "u'C:\\\\Users\\\\stoiv\\\\Tohoku'"
      ]
     },
     "execution_count": 2,
     "metadata": {},
     "output_type": "execute_result"
    }
   ],
   "source": [
    "pwd"
   ]
  },
  {
   "cell_type": "markdown",
   "metadata": {
    "colab_type": "text",
    "id": "L69J50RdUmmN"
   },
   "source": [
    "## Create Domain"
   ]
  },
  {
   "cell_type": "code",
   "execution_count": 3,
   "metadata": {
    "colab": {},
    "colab_type": "code",
    "id": "YNW9WUgjTATg"
   },
   "outputs": [],
   "source": [
    "import anuga\n",
    "\n",
    "\n",
    "# Create domain\n",
    "dx = dy = 1000\n",
    "L = 80000\n",
    "W = 80000\n",
    "\n",
    "\n",
    "# Create topography\n",
    "def topography(x, y):\n",
    "    el = -1000\n",
    "    return el\n",
    "\n",
    "\n",
    "domain = anuga.rectangular_cross_domain(int(L/dx), int(W/dy), len1=L, len2=W)\n",
    "\n",
    "domain.set_name('test')\n",
    "domain.set_quantity('elevation', function=topography, location='centroids')"
   ]
  },
  {
   "cell_type": "markdown",
   "metadata": {
    "colab_type": "text",
    "id": "I1ImAke0U6cs"
   },
   "source": [
    "## Apply Okada to Stage"
   ]
  },
  {
   "cell_type": "code",
   "execution_count": 20,
   "metadata": {},
   "outputs": [],
   "source": [
    "import anuga.tsunami_source.okada_tsunami_fortran as okada_tsunami_fortran\n",
    "class Okada_func:\n",
    "\n",
    "   def __init__(self, source,verbose=False,alp=0.5,dmax=-1.):\n",
    "      self.elon  = source[:,0]\n",
    "      self.elat  = source[:,1]\n",
    "      self.edep  = source[:,2]\n",
    "      self.strk  = source[:,3]\n",
    "      self.dip   = source[:,4]\n",
    "      self.lnt = source[:,5]\n",
    "      self.wdt = source[:,6]\n",
    "      self.disl1 = source[:,7]\n",
    "      self.disl2 = source[:,8]\n",
    "      self.alp     = alp\n",
    "      self.dmax    = dmax\n",
    "      self.verbose = verbose\n",
    "     \n",
    "      #print self.elon, self.elat, self.edep, self.strk, self.dip, self.lnt, self.wdt, self.disl1, self.disl2, self.alp, self.dmax, self.verbose\n",
    " \n",
    "   def __call__(self, x, y):\n",
    "      \"\"\"Make Okada_func a callable object.\n",
    "      \n",
    "      If called as a function, this object returns z values representing\n",
    "      the initial distribution of water heights at the points (x,y)\n",
    "      produced by a submarine mass failure.\n",
    "      \"\"\"\n",
    "       \n",
    "      edsp,ndsp,zdsp = okada_tsunami_fortran.fault_disp(self.alp,self.elon,self.elat,self.edep,self.strk,self.dip,\\\n",
    "                                             self.lnt,self.wdt,self.disl1,self.disl2,x,y,self.dmax)\n",
    "      return zdsp"
   ]
  },
  {
   "cell_type": "code",
   "execution_count": 24,
   "metadata": {
    "colab": {},
    "colab_type": "code",
    "id": "cF4SiGFEUewC"
   },
   "outputs": [
    {
     "name": "stdout",
     "output_type": "stream",
     "text": [
      "[[4.0e+04 4.0e+04 1.5e+01 0.0e+00 1.5e+01 2.0e+01 6.0e+00 1.0e+01 9.0e+01\n",
      "  0.0e+00]]\n",
      "2 [0.18104733]\n",
      "Figure files for each frame will be stored in _plot\n",
      "7.031578638664829 -2.9324914953107477\n",
      "-1000.0 -1000.0\n",
      "1007.0315786386649 997.0675085046893\n"
     ]
    },
    {
     "data": {
      "image/png": "[encoded data removed]",
      "text/plain": [
       "<Figure size 400x240 with 2 Axes>"
      ]
     },
     "metadata": {
      "needs_background": "light"
     },
     "output_type": "display_data"
    }
   ],
   "source": [
    "#from anuga.tsunami_source.okada_tsunami import earthquake_source, Okada_func\n",
    "#from anuga.tsunami_source.tsunami_okada import earthquake_tsunami,Okada_func\n",
    "\n",
    "x0 = 40000.0\n",
    "y0 = 40000.0\n",
    "depth = 15.0\n",
    "strike = 0.0\n",
    "dip = 15.0\n",
    "length = 20.0\n",
    "width = 6.0\n",
    "slip = 10.0\n",
    "rake = 90.0\n",
    "dis3 = 0.0\n",
    "NSMAX = 1\n",
    "\n",
    "ns = 1\n",
    "\n",
    "source1 = np.array([x0, y0, depth, strike, dip, length, width,\n",
    "                  slip, rake, dis3]).reshape((1,-1))\n",
    "\n",
    "print source1\n",
    "zrec0 = anuga.Quantity(domain)\n",
    "zrec0.set_values(0.0)\n",
    "zrec=zrec0.get_vertex_values(xy=True)\n",
    "\n",
    "Ts = Okada_func(source=source1, verbose=True)\n",
    "\n",
    "\n",
    "domain.set_quantity('stage', function=Ts, location='centroids') \n",
    "\n",
    "print 2, Ts(2000.0, 30000.0)\n",
    "\n",
    "dplotter = anuga.Domain_plotter(domain)\n",
    "\n",
    "print np.max(dplotter.stage), np.min(dplotter.stage)\n",
    "print np.max(dplotter.elev), np.min(dplotter.elev)\n",
    "print np.max(dplotter.depth), np.min(dplotter.depth)\n",
    "\n",
    "dplotter.plot_stage_frame(vmin=-3.0, vmax=8.0)"
   ]
  },
  {
   "cell_type": "markdown",
   "metadata": {
    "colab_type": "text",
    "id": "bWkw2qH9pdMS"
   },
   "source": []
  },
  {
   "cell_type": "code",
   "execution_count": null,
   "metadata": {},
   "outputs": [],
   "source": []
  },
  {
   "cell_type": "code",
   "execution_count": 0,
   "metadata": {
    "colab": {},
    "colab_type": "code",
    "id": "VRBuh04CWhor"
   },
   "outputs": [],
   "source": [
    "# Initial condition of earthquake for multiple source\n",
    "\n",
    "x0 = [40000.0, 40000.0]\n",
    "y0 = [45000.0, 35000.0]\n",
    "depth = [15.0, 15.0]\n",
    "strike = [0.0, 0.0]\n",
    "dip = [15.0, 15.0]\n",
    "length = [10.0, 10.0]\n",
    "width = [6.0, 6.0]\n",
    "slip = [10.0, 10.0]\n",
    "rake = [90.0, 90.0]\n",
    "dis3 = [0.0, 0.0]\n",
    "\n",
    "ns = 2\n",
    "\n",
    "\n",
    "source2 = np.array([x0, y0, depth, strike, dip, length, width,\n",
    "                  slip, rake, dis3]).transpose()\n",
    "\n",
    "\n",
    "Ts = earthquake_source(\n",
    "             source=source2,\n",
    "             domain=domain,\n",
    "             lon_lat_degrees=False,\n",
    "             lon_before_lat=True,\n",
    "             utm_zone=None,\n",
    "             verbose=False)\n",
    "\n",
    "domain.set_quantity('stage', function=Ts, location='centroids')\n",
    "\n",
    "\n",
    "print np.max(dplotter.stage), np.min(dplotter.stage)\n",
    "print np.max(dplotter.elev), np.min(dplotter.elev)\n",
    "print np.max(dplotter.depth), np.min(dplotter.depth)\n",
    "\n",
    "dplotter.plot_stage_frame(vmin=-3.0, vmax=8.0)"
   ]
  }
 ],
 "metadata": {
  "colab": {
   "collapsed_sections": [],
   "include_colab_link": true,
   "name": "notebook1.ipynb",
   "provenance": [],
   "version": "0.3.2"
  },
  "kernelspec": {
   "display_name": "Python 2",
   "language": "python",
   "name": "python2"
  },
  "language_info": {
   "codemirror_mode": {
    "name": "ipython",
    "version": 2
   },
   "file_extension": ".py",
   "mimetype": "text/x-python",
   "name": "python",
   "nbconvert_exporter": "python",
   "pygments_lexer": "ipython2",
   "version": "2.7.17"
  }
 },
 "nbformat": 4,
 "nbformat_minor": 1
}
