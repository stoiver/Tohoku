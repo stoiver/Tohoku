{
 "cells": [
  {
   "cell_type": "markdown",
   "metadata": {
    "colab_type": "text",
    "id": "view-in-github"
   },
   "source": [
    "<a href=\"https://colab.research.google.com/github/stoiver/Tohoku/blob/master/notebook1.ipynb\" target=\"_parent\"><img src=\"https://colab.research.google.com/assets/colab-badge.svg\" alt=\"Open In Colab\"/></a>"
   ]
  },
  {
   "cell_type": "markdown",
   "metadata": {
    "colab_type": "text",
    "id": "MFkDMm10DPK7"
   },
   "source": [
    "# Tohoku Notebook\n",
    "\n",
    "These notebooks have been designed to run in the google `colaboratory` environment, which provides a jupyter notebook environment running on a virtual machine on the cloud. To use this environment you need a google account so that your notebook can be saved on google drive. \n",
    "\n",
    "To start interacting with the notebook follow the \n",
    "`View in Colaboratory` link above. "
   ]
  },
  {
   "cell_type": "markdown",
   "metadata": {
    "colab_type": "text",
    "id": "Dt-Ti7kdQX3C"
   },
   "source": [
    "## Setup Environment\n",
    "\n",
    "If on github, first follow the link `View in Colaboratory' to start running on google's colab environment. \n",
    "\n",
    "### Then ....\n",
    "\n",
    "Run the following cell to install the dependencies and some extra code for visualising on Colaboratory.\n",
    "Wait until you see the comment *(6) Ready to go* before proceeding to subsequent commands. \n",
    "\n",
    "The install should take less than a minute (and quicker if you have already run this earlier)."
   ]
  },
  {
   "cell_type": "code",
   "execution_count": 0,
   "metadata": {
    "colab": {},
    "colab_type": "code",
    "id": "xdCgMgk7_ZcW"
   },
   "outputs": [],
   "source": [
    "try:\n",
    "  # On colab we can install all the packages we need via the notebook\n",
    "  #\n",
    "  # First download the clinic repository\n",
    "  import os\n",
    "  os.chdir('/content')\n",
    "  \n",
    "  print \"(1) Install netcdf nose via pip\"\n",
    "  !pip -q install netCDF4 nose > /dev/null 2>&1 \n",
    "\n",
    "  print \"(2) Install gdal via apt-get\"\n",
    "  !apt-get -q -y install python-gdal gdal-bin > /dev/null 2>&1 \n",
    "\n",
    "  print \"(3) Download anuga_core github repository\"\n",
    "  !git clone -b tsunami_okada  https://github.com/stoiver/anuga_core.git  > /dev/null 2>&1 \n",
    "\n",
    "  print \"(4) Install anuga\"\n",
    "  os.chdir('/content/anuga_core')\n",
    "  !python setup.py --quiet install  > /dev/null 2>&1 \n",
    "  os.chdir('..')\n",
    "  \n",
    "  print \"(5) Download Tohoku github repository\"\n",
    "  !git clone https://github.com/stoiver/Tohoku.git  > /dev/null 2>&1   \n",
    "  \n",
    "  print \"(6) Ready to go\"\n",
    " \n",
    "except:\n",
    "  pass"
   ]
  },
  {
   "cell_type": "markdown",
   "metadata": {
    "colab_type": "text",
    "id": "0jTxMSaddabt"
   },
   "source": [
    "### Setup inline graphics and animation"
   ]
  },
  {
   "cell_type": "code",
   "execution_count": 0,
   "metadata": {
    "colab": {},
    "colab_type": "code",
    "id": "zyvvRz5ydNQx"
   },
   "outputs": [],
   "source": [
    "import numpy as np\n",
    "import matplotlib.pyplot as plt\n",
    "from google.colab import files\n",
    "\n",
    "%matplotlib inline\n",
    "\n",
    "# Allow inline jshtml animations\n",
    "from matplotlib import rc\n",
    "rc('animation', html='jshtml')"
   ]
  },
  {
   "cell_type": "markdown",
   "metadata": {
    "colab_type": "text",
    "id": "6C9x_Hv7QSgj"
   },
   "source": [
    "## Tohoku Folder\n",
    "\n",
    "Change into the Tohoku folder"
   ]
  },
  {
   "cell_type": "code",
   "execution_count": 0,
   "metadata": {
    "colab": {},
    "colab_type": "code",
    "id": "iCl_HdApQS_c"
   },
   "outputs": [],
   "source": [
    "os.chdir('Tohoku')"
   ]
  },
  {
   "cell_type": "markdown",
   "metadata": {
    "colab_type": "text",
    "id": "L69J50RdUmmN"
   },
   "source": [
    "## Create Domain"
   ]
  },
  {
   "cell_type": "code",
   "execution_count": 0,
   "metadata": {
    "colab": {},
    "colab_type": "code",
    "id": "YNW9WUgjTATg"
   },
   "outputs": [],
   "source": [
    "import anuga\n",
    "\n",
    "\n",
    "# Create domain\n",
    "dx = dy = 1000\n",
    "L = 80000\n",
    "W = 80000\n",
    "\n",
    "\n",
    "# Create topography\n",
    "def topography(x, y):\n",
    "    el = -1000\n",
    "    return el\n",
    "\n",
    "\n",
    "domain = anuga.rectangular_cross_domain(int(L/dx), int(W/dy), len1=L, len2=W)\n",
    "\n",
    "domain.set_name('test')\n",
    "domain.set_quantity('elevation', function=topography, location='centroids')"
   ]
  },
  {
   "cell_type": "markdown",
   "metadata": {
    "colab_type": "text",
    "id": "I1ImAke0U6cs"
   },
   "source": [
    "## Apply Okada to Stage"
   ]
  },
  {
   "cell_type": "code",
   "execution_count": 4,
   "metadata": {
    "colab": {},
    "colab_type": "code",
    "id": "cF4SiGFEUewC"
   },
   "outputs": [
    {
     "ename": "Exception",
     "evalue": "okada_tsunami_fortran does not appear to be compiled.\n     You can compile it by running the command:\n     \"f2py -c okada_tsunami_fortran.f -m okada_tsunami_fortran\"\n     in the shallow_water directory",
     "output_type": "error",
     "traceback": [
      "\u001b[0;31m---------------------------------------------------------------------------\u001b[0m",
      "\u001b[0;31mException\u001b[0m                                 Traceback (most recent call last)",
      "\u001b[0;32m<ipython-input-4-4fc9a1492973>\u001b[0m in \u001b[0;36m<module>\u001b[0;34m()\u001b[0m\n\u001b[0;32m----> 1\u001b[0;31m \u001b[0;32mfrom\u001b[0m \u001b[0manuga\u001b[0m\u001b[0;34m.\u001b[0m\u001b[0mtsunami_source\u001b[0m\u001b[0;34m.\u001b[0m\u001b[0mokada_tsunami\u001b[0m \u001b[0;32mimport\u001b[0m \u001b[0mearthquake_source\u001b[0m\u001b[0;34m\u001b[0m\u001b[0m\n\u001b[0m\u001b[1;32m      2\u001b[0m \u001b[0;34m\u001b[0m\u001b[0m\n\u001b[1;32m      3\u001b[0m \u001b[0mx0\u001b[0m \u001b[0;34m=\u001b[0m \u001b[0;36m40000.0\u001b[0m\u001b[0;34m\u001b[0m\u001b[0m\n\u001b[1;32m      4\u001b[0m \u001b[0my0\u001b[0m \u001b[0;34m=\u001b[0m \u001b[0;36m40000.0\u001b[0m\u001b[0;34m\u001b[0m\u001b[0m\n\u001b[1;32m      5\u001b[0m \u001b[0mdepth\u001b[0m \u001b[0;34m=\u001b[0m \u001b[0;36m15.0\u001b[0m\u001b[0;34m\u001b[0m\u001b[0m\n",
      "\u001b[0;32m/home/steve/anuga/anuga_core/anuga/tsunami_source/okada_tsunami.py\u001b[0m in \u001b[0;36m<module>\u001b[0;34m()\u001b[0m\n\u001b[1;32m     31\u001b[0m     \u001b[0mYou\u001b[0m \u001b[0mcan\u001b[0m \u001b[0mcompile\u001b[0m \u001b[0mit\u001b[0m \u001b[0mby\u001b[0m \u001b[0mrunning\u001b[0m \u001b[0mthe\u001b[0m \u001b[0mcommand\u001b[0m\u001b[0;34m:\u001b[0m\u001b[0;31m\\\u001b[0m\u001b[0mn\u001b[0m\u001b[0;31m \u001b[0m\u001b[0;31m\\\u001b[0m\u001b[0;34m\u001b[0m\u001b[0m\n\u001b[1;32m     32\u001b[0m     \u001b[0;34m\"f2py -c okada_tsunami_fortran.f -m okada_tsunami_fortran\"\u001b[0m\u001b[0;31m\\\u001b[0m\u001b[0mn\u001b[0m\u001b[0;31m \u001b[0m\u001b[0;31m\\\u001b[0m\u001b[0;34m\u001b[0m\u001b[0m\n\u001b[0;32m---> 33\u001b[0;31m     \u001b[0;32min\u001b[0m \u001b[0mthe\u001b[0m \u001b[0mshallow_water\u001b[0m \u001b[0mdirectory\u001b[0m\u001b[0;31m'\u001b[0m\u001b[0;34m\u001b[0m\u001b[0m\n\u001b[0m\u001b[1;32m     34\u001b[0m \u001b[0;34m\u001b[0m\u001b[0m\n\u001b[1;32m     35\u001b[0m \u001b[0;32mfrom\u001b[0m \u001b[0mpyproj\u001b[0m \u001b[0;32mimport\u001b[0m \u001b[0mProj\u001b[0m\u001b[0;34m\u001b[0m\u001b[0m\n",
      "\u001b[0;31mException\u001b[0m: okada_tsunami_fortran does not appear to be compiled.\n     You can compile it by running the command:\n     \"f2py -c okada_tsunami_fortran.f -m okada_tsunami_fortran\"\n     in the shallow_water directory"
     ]
    }
   ],
   "source": [
    "from anuga.tsunami_source.okada_tsunami import earthquake_source\n",
    "\n",
    "x0 = 40000.0\n",
    "y0 = 40000.0\n",
    "depth = 15.0\n",
    "strike = 0.0\n",
    "dip = 15.0\n",
    "length = 20.0\n",
    "width = 6.0\n",
    "slip = 10.0\n",
    "rake = 90.0\n",
    "dis3 = 0.0\n",
    "\n",
    "ns = 1\n",
    "\n",
    "source1 = np.array([x0, y0, depth, strike, dip, length, width,\n",
    "                  slip, rake, dis3])\n",
    "\n",
    "\n",
    "Ts = earthquake_source(\n",
    "             source=source1,\n",
    "             domain=domain,\n",
    "             lon_lat_degrees=False,\n",
    "             lon_before_lat=True,\n",
    "             utm_zone=None,\n",
    "             verbose=False)\n",
    "\n",
    "domain.set_quantity('stage', function=Ts, location='centroids')\n",
    "\n",
    "dplotter = anuga.Domain_plotter(domain)\n",
    "\n",
    "print np.max(dplotter.stage), np.min(dplotter.stage)\n",
    "print np.max(dplotter.elev), np.min(dplotter.elev)\n",
    "print np.max(dplotter.depth), np.min(dplotter.depth)\n",
    "\n",
    "dplotter.plot_stage_frame(vmin=-3.0, vmax=8.0)"
   ]
  },
  {
   "cell_type": "markdown",
   "metadata": {
    "colab_type": "text",
    "id": "bWkw2qH9pdMS"
   },
   "source": []
  },
  {
   "cell_type": "code",
   "execution_count": 3,
   "metadata": {
    "colab": {},
    "colab_type": "code",
    "id": "VRBuh04CWhor"
   },
   "outputs": [
    {
     "ename": "Exception",
     "evalue": "okada_tsunami_fortran does not appear to be compiled.\n     You can compile it by running the command:\n     \"f2py -c okada_tsunami_fortran.f -m okada_tsunami_fortran\"\n     in the shallow_water directory",
     "output_type": "error",
     "traceback": [
      "\u001b[0;31m---------------------------------------------------------------------------\u001b[0m",
      "\u001b[0;31mException\u001b[0m                                 Traceback (most recent call last)",
      "\u001b[0;32m<ipython-input-3-1152a225c6c2>\u001b[0m in \u001b[0;36m<module>\u001b[0;34m()\u001b[0m\n\u001b[1;32m     20\u001b[0m                   slip, rake, dis3]).transpose()\n\u001b[1;32m     21\u001b[0m \u001b[0;34m\u001b[0m\u001b[0m\n\u001b[0;32m---> 22\u001b[0;31m \u001b[0;32mfrom\u001b[0m \u001b[0manuga\u001b[0m\u001b[0;34m.\u001b[0m\u001b[0mtsunami_source\u001b[0m\u001b[0;34m.\u001b[0m\u001b[0mokada_tsunami\u001b[0m \u001b[0;32mimport\u001b[0m \u001b[0mearthquake_source\u001b[0m\u001b[0;34m\u001b[0m\u001b[0m\n\u001b[0m\u001b[1;32m     23\u001b[0m \u001b[0;34m\u001b[0m\u001b[0m\n\u001b[1;32m     24\u001b[0m Ts = earthquake_source(\n",
      "\u001b[0;32m/home/steve/anuga/anuga_core/anuga/tsunami_source/okada_tsunami.py\u001b[0m in \u001b[0;36m<module>\u001b[0;34m()\u001b[0m\n\u001b[1;32m     31\u001b[0m     \u001b[0mYou\u001b[0m \u001b[0mcan\u001b[0m \u001b[0mcompile\u001b[0m \u001b[0mit\u001b[0m \u001b[0mby\u001b[0m \u001b[0mrunning\u001b[0m \u001b[0mthe\u001b[0m \u001b[0mcommand\u001b[0m\u001b[0;34m:\u001b[0m\u001b[0;31m\\\u001b[0m\u001b[0mn\u001b[0m\u001b[0;31m \u001b[0m\u001b[0;31m\\\u001b[0m\u001b[0;34m\u001b[0m\u001b[0m\n\u001b[1;32m     32\u001b[0m     \u001b[0;34m\"f2py -c okada_tsunami_fortran.f -m okada_tsunami_fortran\"\u001b[0m\u001b[0;31m\\\u001b[0m\u001b[0mn\u001b[0m\u001b[0;31m \u001b[0m\u001b[0;31m\\\u001b[0m\u001b[0;34m\u001b[0m\u001b[0m\n\u001b[0;32m---> 33\u001b[0;31m     \u001b[0;32min\u001b[0m \u001b[0mthe\u001b[0m \u001b[0mshallow_water\u001b[0m \u001b[0mdirectory\u001b[0m\u001b[0;31m'\u001b[0m\u001b[0;34m\u001b[0m\u001b[0m\n\u001b[0m\u001b[1;32m     34\u001b[0m \u001b[0;34m\u001b[0m\u001b[0m\n\u001b[1;32m     35\u001b[0m \u001b[0;32mfrom\u001b[0m \u001b[0mpyproj\u001b[0m \u001b[0;32mimport\u001b[0m \u001b[0mProj\u001b[0m\u001b[0;34m\u001b[0m\u001b[0m\n",
      "\u001b[0;31mException\u001b[0m: okada_tsunami_fortran does not appear to be compiled.\n     You can compile it by running the command:\n     \"f2py -c okada_tsunami_fortran.f -m okada_tsunami_fortran\"\n     in the shallow_water directory"
     ]
    }
   ],
   "source": [
    "# Initial condition of earthquake for multiple source\n",
    "\n",
    "import numpy as np \n",
    "\n",
    "x0 = [40000.0, 40000.0]\n",
    "y0 = [45000.0, 35000.0]\n",
    "depth = [15.0, 15.0]\n",
    "strike = [0.0, 0.0]\n",
    "dip = [15.0, 15.0]\n",
    "length = [10.0, 10.0]\n",
    "width = [6.0, 6.0]\n",
    "slip = [10.0, 10.0]\n",
    "rake = [90.0, 90.0]\n",
    "dis3 = [0.0, 0.0]\n",
    "\n",
    "ns = 2\n",
    "\n",
    "\n",
    "source2 = np.array([x0, y0, depth, strike, dip, length, width,\n",
    "                  slip, rake, dis3]).transpose()\n",
    "\n",
    "from anuga.tsunami_source.okada_tsunami import earthquake_source \n",
    "\n",
    "Ts = earthquake_source(\n",
    "             source=source2,\n",
    "             domain=domain,\n",
    "             lon_lat_degrees=False,\n",
    "             lon_before_lat=True,\n",
    "             utm_zone=None,\n",
    "             verbose=False)\n",
    "\n",
    "domain.set_quantity('stage', function=Ts, location='centroids')\n",
    "\n",
    "\n",
    "print np.max(dplotter.stage), np.min(dplotter.stage)\n",
    "print np.max(dplotter.elev), np.min(dplotter.elev)\n",
    "print np.max(dplotter.depth), np.min(dplotter.depth)\n",
    "\n",
    "dplotter.plot_stage_frame(vmin=-3.0, vmax=8.0)"
   ]
  }
 ],
 "metadata": {
  "colab": {
   "collapsed_sections": [],
   "include_colab_link": true,
   "name": "notebook1.ipynb",
   "provenance": [],
   "version": "0.3.2"
  },
  "kernelspec": {
   "display_name": "Python 2",
   "language": "python",
   "name": "python2"
  },
  "language_info": {
   "codemirror_mode": {
    "name": "ipython",
    "version": 2
   },
   "file_extension": ".py",
   "mimetype": "text/x-python",
   "name": "python",
   "nbconvert_exporter": "python",
   "pygments_lexer": "ipython2",
   "version": "2.7.12"
  }
 },
 "nbformat": 4,
 "nbformat_minor": 1
}
