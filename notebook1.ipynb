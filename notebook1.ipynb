{
  "nbformat": 4,
  "nbformat_minor": 0,
  "metadata": {
    "colab": {
      "name": "notebook1.ipynb",
      "version": "0.3.2",
      "provenance": [],
      "collapsed_sections": [],
      "include_colab_link": true
    },
    "kernelspec": {
      "name": "python2",
      "display_name": "Python 2"
    }
  },
  "cells": [
    {
      "cell_type": "markdown",
      "metadata": {
        "id": "view-in-github",
        "colab_type": "text"
      },
      "source": [
        "<a href=\"https://colab.research.google.com/github/stoiver/Tohoku/blob/master/notebook1.ipynb\" target=\"_parent\"><img src=\"https://colab.research.google.com/assets/colab-badge.svg\" alt=\"Open In Colab\"/></a>"
      ]
    },
    {
      "cell_type": "markdown",
      "metadata": {
        "id": "MFkDMm10DPK7",
        "colab_type": "text"
      },
      "source": [
        "# Tohoku Notebook\n",
        "\n",
        "These notebooks have been designed to run in the google `colaboratory` environment, which provides a jupyter notebook environment running on a virtual machine on the cloud. To use this environment you need a google account so that your notebook can be saved on google drive. \n",
        "\n",
        "To start interacting with the notebook follow the \n",
        "`View in Colaboratory` link above. "
      ]
    },
    {
      "cell_type": "markdown",
      "metadata": {
        "id": "Dt-Ti7kdQX3C",
        "colab_type": "text"
      },
      "source": [
        "## Setup Environment\n",
        "\n",
        "If on github, first follow the link `View in Colaboratory' to start running on google's colab environment. \n",
        "\n",
        "### Then ....\n",
        "\n",
        "Run the following cell to install the dependencies and some extra code for visualising on Colaboratory.\n",
        "Wait until you see the comment *(6) Ready to go* before proceeding to subsequent commands. \n",
        "\n",
        "The install should take less than a minute (and quicker if you have already run this earlier)."
      ]
    },
    {
      "cell_type": "code",
      "metadata": {
        "id": "xdCgMgk7_ZcW",
        "colab_type": "code",
        "colab": {}
      },
      "source": [
        "try:\n",
        "  # On colab we can install all the packages we need via the notebook\n",
        "  #\n",
        "  # First download the clinic repository\n",
        "  import os\n",
        "  os.chdir('/content')\n",
        "  \n",
        "  print \"(1) Install netcdf nose via pip\"\n",
        "  !pip -q install netCDF4 nose > /dev/null 2>&1 \n",
        "\n",
        "  print \"(2) Install gdal via apt-get\"\n",
        "  !apt-get -q -y install python-gdal gdal-bin > /dev/null 2>&1 \n",
        "\n",
        "  print \"(3) Download anuga_core github repository\"\n",
        "  !git clone -b tsunami_okada  https://github.com/stoiver/anuga_core.git  > /dev/null 2>&1 \n",
        "\n",
        "  print \"(4) Install anuga\"\n",
        "  os.chdir('/content/anuga_core')\n",
        "  !python setup.py --quiet install  > /dev/null 2>&1 \n",
        "  os.chdir('..')\n",
        "  \n",
        "  print \"(5) Download Tohoku github repository\"\n",
        "  !git clone https://github.com/stoiver/Tohoku.git  > /dev/null 2>&1   \n",
        "  \n",
        "  print \"(6) Ready to go\"\n",
        " \n",
        "except:\n",
        "  pass"
      ],
      "execution_count": 0,
      "outputs": []
    },
    {
      "cell_type": "markdown",
      "metadata": {
        "id": "0jTxMSaddabt",
        "colab_type": "text"
      },
      "source": [
        "### Setup inline graphics and animation"
      ]
    },
    {
      "cell_type": "code",
      "metadata": {
        "id": "zyvvRz5ydNQx",
        "colab_type": "code",
        "colab": {}
      },
      "source": [
        "import numpy as np\n",
        "import matplotlib.pyplot as plt\n",
        "from google.colab import files\n",
        "\n",
        "%matplotlib inline\n",
        "\n",
        "# Allow inline jshtml animations\n",
        "from matplotlib import rc\n",
        "rc('animation', html='jshtml')"
      ],
      "execution_count": 0,
      "outputs": []
    },
    {
      "cell_type": "markdown",
      "metadata": {
        "id": "6C9x_Hv7QSgj",
        "colab_type": "text"
      },
      "source": [
        "## Tohoku Folder\n",
        "\n",
        "Change into the Tohoku folder"
      ]
    },
    {
      "cell_type": "code",
      "metadata": {
        "id": "iCl_HdApQS_c",
        "colab_type": "code",
        "colab": {}
      },
      "source": [
        "os.chdir('Tohoku')"
      ],
      "execution_count": 0,
      "outputs": []
    },
    {
      "cell_type": "markdown",
      "metadata": {
        "id": "L69J50RdUmmN",
        "colab_type": "text"
      },
      "source": [
        "## Create Domain"
      ]
    },
    {
      "cell_type": "code",
      "metadata": {
        "id": "YNW9WUgjTATg",
        "colab_type": "code",
        "colab": {}
      },
      "source": [
        "import anuga\n",
        "\n",
        "\n",
        "# Create domain\n",
        "dx = dy = 1000\n",
        "L = 80000\n",
        "W = 80000\n",
        "\n",
        "\n",
        "# Create topography\n",
        "def topography(x, y):\n",
        "    el = -1000\n",
        "    return el\n",
        "\n",
        "\n",
        "domain = anuga.rectangular_cross_domain(int(L/dx), int(W/dy), len1=L, len2=W)\n",
        "\n",
        "domain.set_name('test')\n",
        "domain.set_quantity('elevation', function=topography, location='centroids')"
      ],
      "execution_count": 0,
      "outputs": []
    },
    {
      "cell_type": "markdown",
      "metadata": {
        "id": "I1ImAke0U6cs",
        "colab_type": "text"
      },
      "source": [
        "## Apply Okada to Stage"
      ]
    },
    {
      "cell_type": "code",
      "metadata": {
        "id": "cF4SiGFEUewC",
        "colab_type": "code",
        "colab": {}
      },
      "source": [
        "from anuga.tsunami_source.okada_tsunami import earthquake_source\n",
        "\n",
        "x0 = 40000.0\n",
        "y0 = 40000.0\n",
        "depth = 15.0\n",
        "strike = 0.0\n",
        "dip = 15.0\n",
        "length = 20.0\n",
        "width = 6.0\n",
        "slip = 10.0\n",
        "rake = 90.0\n",
        "dis3 = 0.0\n",
        "\n",
        "ns = 1\n",
        "\n",
        "source1 = np.array([x0, y0, depth, strike, dip, length, width,\n",
        "                  slip, rake, dis3])\n",
        "\n",
        "\n",
        "Ts = earthquake_source(\n",
        "             source=source1,\n",
        "             domain=domain,\n",
        "             lon_lat_degrees=False,\n",
        "             lon_before_lat=True,\n",
        "             utm_zone=None,\n",
        "             verbose=False)\n",
        "\n",
        "domain.set_quantity('stage', function=Ts, location='centroids')\n",
        "\n",
        "dplotter = anuga.Domain_plotter(domain)\n",
        "\n",
        "print np.max(dplotter.stage), np.min(dplotter.stage)\n",
        "print np.max(dplotter.elev), np.min(dplotter.elev)\n",
        "print np.max(dplotter.depth), np.min(dplotter.depth)\n",
        "\n",
        "dplotter.plot_stage_frame(vmin=-3.0, vmax=8.0)"
      ],
      "execution_count": 0,
      "outputs": []
    },
    {
      "cell_type": "markdown",
      "metadata": {
        "id": "bWkw2qH9pdMS",
        "colab_type": "text"
      },
      "source": [
        ""
      ]
    },
    {
      "cell_type": "code",
      "metadata": {
        "id": "VRBuh04CWhor",
        "colab_type": "code",
        "colab": {}
      },
      "source": [
        "# Initial condition of earthquake for multiple source\n",
        "\n",
        "x0 = [40000.0, 40000.0]\n",
        "y0 = [45000.0, 35000.0]\n",
        "depth = [15.0, 15.0]\n",
        "strike = [0.0, 0.0]\n",
        "dip = [15.0, 15.0]\n",
        "length = [10.0, 10.0]\n",
        "width = [6.0, 6.0]\n",
        "slip = [10.0, 10.0]\n",
        "rake = [90.0, 90.0]\n",
        "dis3 = [0.0, 0.0]\n",
        "\n",
        "ns = 2\n",
        "\n",
        "\n",
        "source2 = np.array([x0, y0, depth, strike, dip, length, width,\n",
        "                  slip, rake, dis3]).transpose()\n",
        "\n",
        "\n",
        "Ts = earthquake_source(\n",
        "             source=source2,\n",
        "             domain=domain,\n",
        "             lon_lat_degrees=False,\n",
        "             lon_before_lat=True,\n",
        "             utm_zone=None,\n",
        "             verbose=False)\n",
        "\n",
        "domain.set_quantity('stage', function=Ts, location='centroids')\n",
        "\n",
        "\n",
        "print np.max(dplotter.stage), np.min(dplotter.stage)\n",
        "print np.max(dplotter.elev), np.min(dplotter.elev)\n",
        "print np.max(dplotter.depth), np.min(dplotter.depth)\n",
        "\n",
        "dplotter.plot_stage_frame(vmin=-3.0, vmax=8.0)"
      ],
      "execution_count": 0,
      "outputs": []
    }
  ]
}
