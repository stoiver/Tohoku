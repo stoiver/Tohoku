{
 "cells": [
  {
   "cell_type": "code",
   "execution_count": null,
   "metadata": {},
   "outputs": [],
   "source": [
    "%load_ext autoreload\n",
    "%autoreload 2\n",
    "#%matplotlib widget\n",
    "%matplotlib inline"
   ]
  },
  {
   "cell_type": "code",
   "execution_count": null,
   "metadata": {},
   "outputs": [],
   "source": [
    "import okada_kl_subfaults as okl\n",
    "import matplotlib.pyplot as plt\n",
    "import numpy as np"
   ]
  },
  {
   "cell_type": "code",
   "execution_count": null,
   "metadata": {},
   "outputs": [],
   "source": [
    "E_subfault=10\n",
    "N_subfault=10\n",
    "\n",
    "depth=3.2e4\n",
    "length=3e5\n",
    "width=1.5e5\n",
    "strike=195.0\n",
    "dip=14.0\n",
    "rake=87.0\n",
    "\n",
    "\n",
    "epicenters_E, epicenters_N, epicenters_D = okl.subfaults(E_subfault, N_subfault, dip, strike, length, width)\n",
    "\n",
    "#print(epicenters_E)"
   ]
  },
  {
   "cell_type": "code",
   "execution_count": null,
   "metadata": {},
   "outputs": [],
   "source": [
    "slip=62.0\n",
    "opening=10.0\n",
    "\n",
    "aver = []\n",
    "for i in range(100):\n",
    "        slips, D, V, z = okl.kl_slipfield(epicenters_E, epicenters_N, epicenters_D, length, width, slip)\n",
    "        aver.append(np.average(slips))\n",
    "plt.plot(aver,'+')\n"
   ]
  },
  {
   "cell_type": "code",
   "execution_count": null,
   "metadata": {},
   "outputs": [],
   "source": [
    "nr = 4\n",
    "nc = 2\n",
    "fig, axs = plt.subplots(nr, nc, constrained_layout=True)\n",
    "\n",
    "axs\n",
    "for i in range(nr):\n",
    "    for j in range(nc):\n",
    "        #print(nc*i+j)\n",
    "        axs[i,j].matshow(V[:,nc*i+j].reshape(10,10))\n",
    "        axs[i,j].set_title('Eig %f'% D[nc*i+j,nc*i+j])"
   ]
  },
  {
   "cell_type": "code",
   "execution_count": null,
   "metadata": {},
   "outputs": [],
   "source": [
    "extent = 500000\n",
    "n_extent = 101\n",
    "\n",
    "#[epicenters_E, epicenters_N, epicenters_D]=newsubfaults(E_subfault,N_subfault, dip, strike, L, W);\n",
    "\n",
    "#x_subfaults=N_subfault*E_subfault;\n",
    "\n",
    "# Grid\n",
    "xvec = np.linspace(-extent,extent,n_extent)\n",
    "yvec = np.linspace(-extent,extent,n_extent)\n",
    "x,y = np.meshgrid(xvec,yvec)\n",
    "\n",
    "uE,uN,uZ = okl.deformation(x, y, xoff=0, yoff=0, E_subfault=10, N_subfault=10)"
   ]
  },
  {
   "cell_type": "code",
   "execution_count": null,
   "metadata": {},
   "outputs": [],
   "source": [
    "from mpl_toolkits.mplot3d import axes3d\n",
    "import matplotlib.pyplot as plt\n",
    "from matplotlib import cm\n",
    "from matplotlib.ticker import LinearLocator, FormatStrFormatter\n",
    "\n",
    "\n",
    "fig = plt.figure()\n",
    "ax = fig.add_subplot(111, projection='3d')\n",
    "\n",
    "surf = ax.plot_surface(x,y,uZ, cmap=cm.coolwarm, antialiased=False, rstride=1, cstride=1)\n",
    "\n",
    "# Customize the z axis.\n",
    "ax.set_zlim(-15, 30.0)\n",
    "ax.zaxis.set_major_locator(LinearLocator(10))\n",
    "#ax.zaxis.set_major_formatter(FormatStrFormatter('%.02f'))\n",
    "\n",
    "# Add a color bar which maps values to colors.\n",
    "fig.colorbar(surf, shrink=0.5, aspect=10)\n",
    "plt.show()"
   ]
  },
  {
   "cell_type": "code",
   "execution_count": null,
   "metadata": {},
   "outputs": [],
   "source": [
    "plt.contourf(x,y,uZ)\n",
    "plt.colorbar()\n",
    "\n",
    "\n"
   ]
  },
  {
   "cell_type": "code",
   "execution_count": null,
   "metadata": {},
   "outputs": [],
   "source": []
  }
 ],
 "metadata": {
  "kernelspec": {
   "display_name": "Python 3",
   "language": "python",
   "name": "python3"
  },
  "language_info": {
   "codemirror_mode": {
    "name": "ipython",
    "version": 3
   },
   "file_extension": ".py",
   "mimetype": "text/x-python",
   "name": "python",
   "nbconvert_exporter": "python",
   "pygments_lexer": "ipython3",
   "version": "3.8.2-final"
  }
 },
 "nbformat": 4,
 "nbformat_minor": 4
}